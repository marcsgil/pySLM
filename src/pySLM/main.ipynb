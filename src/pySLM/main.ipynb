{
 "cells": [
  {
   "cell_type": "code",
   "execution_count": 1,
   "metadata": {},
   "outputs": [
    {
     "name": "stderr",
     "output_type": "stream",
     "text": [
      "c:\\Users\\loq58\\Desktop\\SLM\\pySLM\\src\\pySLM\\slmpy.py:86: wxPyDeprecationWarning: Using deprecated class. Use Cursor instead.\n",
      "  cursor = wx.StockCursor(wx.CURSOR_BLANK)\n"
     ]
    }
   ],
   "source": [
    "import numpy as np\n",
    "import slmpy\n",
    "import initial_profiles\n",
    "\n",
    "#All the distances are in mm\n",
    "#The SLM parameters are adjusted for a Hamamatsu X10468\n",
    "width = 15.8\n",
    "height = 12\n",
    "\n",
    "slm = slmpy.SLMdisplay(monitor = 1)\n",
    "resX, resY = slm.getSize()\n",
    "X,Y = np.meshgrid(np.linspace(-width/2 , width/2 ,resX),np.linspace(-height/2 ,height/2 ,resY))"
   ]
  },
  {
   "cell_type": "code",
   "execution_count": 30,
   "metadata": {},
   "outputs": [],
   "source": [
    "xoffset = -0.5\n",
    "yoffset = .05\n",
    "input = initial_profiles.hg(X-xoffset,Y-yoffset,0,0,2)\n",
    "desired = initial_profiles.lg(X,Y,0,1,.25)\n",
    "\n",
    "holo = initial_profiles.generate_hologram(desired,input,X,Y,.105)\n",
    "\n",
    "slm.updateArray(holo)"
   ]
  },
  {
   "cell_type": "code",
   "execution_count": null,
   "metadata": {},
   "outputs": [],
   "source": [
    "slm.close()"
   ]
  }
 ],
 "metadata": {
  "kernelspec": {
   "display_name": "base",
   "language": "python",
   "name": "python3"
  },
  "language_info": {
   "codemirror_mode": {
    "name": "ipython",
    "version": 3
   },
   "file_extension": ".py",
   "mimetype": "text/x-python",
   "name": "python",
   "nbconvert_exporter": "python",
   "pygments_lexer": "ipython3",
   "version": "3.10.9"
  },
  "orig_nbformat": 4
 },
 "nbformat": 4,
 "nbformat_minor": 2
}
